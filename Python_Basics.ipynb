{
 "cells": [
  {
   "cell_type": "markdown",
   "id": "b1d92deb-6a76-4868-849d-fc4a5225b665",
   "metadata": {},
   "source": [
    "# Python Basics\n",
    "#### Author: Farouz Amir\n",
    "- GitHub: https://github.com/farouzJr\n",
    "- LinkedIn: https://www.linkedin.com/in/farouz/\n",
    "---\n",
    "This notebook is a part of <b>Python Notes</b> GitHub repo which you can find here: https://github.com/farouzJr/Python-Notes\n",
    "\n",
    "---"
   ]
  },
  {
   "cell_type": "markdown",
   "id": "aa9720ce-7ff3-4fff-b732-aa5730a39f82",
   "metadata": {},
   "source": [
    "### Before we start\n",
    "I assume you have downloaded python and have the development environment ready\n",
    "\n",
    "<b>If not</b>, you can download Python from here:\n",
    "https://www.python.org/downloads/\n",
    "\n",
    "I recommend using JetBrains, PyCharm IDE.\n",
    "\n",
    "Other Recommendations:\n",
    "- Learn about virtual environments\n",
    "- Write your own code\n",
    "- Do not always use ChatGPT -- Even I did use it to help me create this notebook fast :\")\n",
    "\n",
    "---\n",
    "\n",
    "I will skip the intro part, I am not giving a tutorial - forgive me.\n",
    "\n",
    "---"
   ]
  },
  {
   "cell_type": "markdown",
   "id": "a6616478-f142-40ca-b70f-678808b8514b",
   "metadata": {},
   "source": [
    "### Variables\n",
    "Variables are used to store values (Locations in memory)\n",
    "\n",
    "#### Variable Names\n",
    "Variables in python must follow some rules:\n",
    "1. Starts with a letter or underscore (_) only\n",
    "2. Can contain letters in any case, numbers, underscores\n",
    "3. NO WHITESPACES\n",
    "4. Can't be the same as the language's reserved words (keywords)"
   ]
  },
  {
   "cell_type": "code",
   "execution_count": 1,
   "id": "ffab3801-7d23-4e59-9bdf-d2d7199de5dd",
   "metadata": {},
   "outputs": [
    {
     "name": "stdout",
     "output_type": "stream",
     "text": [
      "200\n",
      "300\n"
     ]
    }
   ],
   "source": [
    "# This is a comment by the way -> it is very helpful\n",
    "\n",
    "# variable\n",
    "x = 1              # a variable name referring to an integer value of 1\n",
    "y = 2              # a variable name referring to an integer value of 1\n",
    "name = \"Farouz\"    # a variable name referring to a string value of \"Farouz\"\n",
    "\n",
    "_variable_name = 0\n",
    "also_a_variable_name = 0\n",
    "variable1 = 0\n",
    "\n",
    "# all variable names below are accepted\n",
    "myvar = \"Zain\"\n",
    "my_var = \"Zain\"\n",
    "_my_var = \"Zain\"\n",
    "myVar = \"Zain\"\n",
    "MYVAR = \"Zain\"\n",
    "myvar2 = \"Zain\"\n",
    "\n",
    "# is = 0             # SyntaxError -> keyword\n",
    "\n",
    "# we can assign multiple values at the same time\n",
    "a, b, c = 1, 2, 3\n",
    "\n",
    "# if we have an unwanted value, we can use underscore for it\n",
    "_, x, y = 100, 200, 300\n",
    "\n",
    "# printing the output using print() function\n",
    "print(x)\n",
    "print(y)"
   ]
  },
  {
   "cell_type": "markdown",
   "id": "6b9b5e46-b812-4e06-8fb8-8fcd163f7ccb",
   "metadata": {},
   "source": [
    "---\n",
    "\n",
    "In Python, **scope** determines where a variable can be accessed.\n",
    "\n",
    "- A **local variable** is created inside a function and can only be used there.\n",
    "- A **global variable** exists outside all functions and can be used anywhere in the program.\n",
    "- If a local and global variable have the same name, Python will use the local one inside that function.\n",
    "\n",
    "Using scope correctly keeps your code organized and prevents accidental conflicts between variable names."
   ]
  },
  {
   "cell_type": "code",
   "execution_count": 2,
   "id": "fd43c128-40b5-4ff0-8d57-04c84f8d4c47",
   "metadata": {},
   "outputs": [
    {
     "name": "stdout",
     "output_type": "stream",
     "text": [
      "Hello, Ahmed\n",
      "Hello, Mohamed\n",
      "Ahmed\n"
     ]
    }
   ],
   "source": [
    "# global vs local variables\n",
    "x1 = \"Ahmed\"\n",
    "\n",
    "def myfunc():\n",
    "  x2 = \"Mohamed\"\n",
    "  print(\"Hello, \" + x1)\n",
    "  print(\"Hello, \" + x2)\n",
    "\n",
    "\n",
    "myfunc()\n",
    "print(x1)\n",
    "# print(x2)    # NameError: name 'x2' is not defined"
   ]
  },
  {
   "cell_type": "markdown",
   "id": "766d7556-cf53-414c-b0f8-2566ecef8ee3",
   "metadata": {},
   "source": [
    "---\n",
    "\n",
    "### Data Types\n",
    "- Text Type: str\n",
    "- Numeric Types: int, float, complex\n",
    "- Sequence Types: list, tuple, range\n",
    "- Mapping Type: dict\n",
    "- Set Types: set, frozenset\n",
    "- None Type: None\n",
    "- Boolean Type: bool\n",
    "\n",
    "Examples:"
   ]
  },
  {
   "cell_type": "code",
   "execution_count": 3,
   "id": "3724456a-4890-484b-8202-39408b33b00c",
   "metadata": {},
   "outputs": [
    {
     "name": "stdout",
     "output_type": "stream",
     "text": [
      "<class 'str'>\n",
      "<class 'int'>\n",
      "<class 'float'>\n",
      "<class 'list'>\n",
      "<class 'tuple'>\n"
     ]
    }
   ],
   "source": [
    "string1 = \"Farouz\"\n",
    "print(type(string1))\n",
    "\n",
    "int_number = 10\n",
    "float_number = 4.5\n",
    "print(type(int_number))\n",
    "print(type(float_number))\n",
    "\n",
    "list1 = [1, 2, 3, 4, 5]\n",
    "tuple1 = (10, 8, 6, 4, 20)\n",
    "print(type(list1))\n",
    "print(type(tuple1))\n",
    "\n",
    "dict1 = {\n",
    "    \"name\": \"Ahmed\",\n",
    "    \"age\": 23,\n",
    "    \"is_graduated\": True\n",
    "}"
   ]
  },
  {
   "cell_type": "markdown",
   "id": "fbddd655-057e-4965-b7f1-1ec79e75b036",
   "metadata": {},
   "source": [
    "---\n",
    "\n",
    "we can convert data types using built-in functions named after the data type itself"
   ]
  },
  {
   "cell_type": "code",
   "execution_count": 4,
   "id": "a4db0d59-ccb1-47ea-91fb-1379796e96d0",
   "metadata": {},
   "outputs": [
    {
     "name": "stdout",
     "output_type": "stream",
     "text": [
      "10\n",
      "<class 'int'>\n",
      "10.0\n",
      "<class 'float'>\n",
      "12\n",
      "<class 'int'>\n",
      "<class 'int'>\n",
      "12033\n",
      "<class 'str'>\n"
     ]
    }
   ],
   "source": [
    "# we can convert int to float easily\n",
    "int_number = 10\n",
    "print(int_number)               # 10\n",
    "print(type(int_number))         # <class 'int'>\n",
    "\n",
    "float_from_int = float(int_number)\n",
    "print(float_from_int)           # 10.0\n",
    "print(type(float_from_int))     # <class 'float'>\n",
    "\n",
    "# we can convert float to int easily, but it will remove the decimal part\n",
    "int_from_float = int(12.7)\n",
    "print(int_from_float)           # 12\n",
    "print(type(int_from_float))     # <class 'int'>\n",
    "\n",
    "# we can convert number strings to integer easily and reverse, otherwise we will be given an error\n",
    "number_string = '1203'\n",
    "int_from_string = int(number_string)\n",
    "print(type(int_from_string))            # <class 'int'>\n",
    "\n",
    "string_from_int = str(12033)\n",
    "print(string_from_int)\n",
    "print(type(string_from_int))            # <class 'str'>\n",
    "\n"
   ]
  },
  {
   "cell_type": "markdown",
   "id": "6ae8419d-67b7-42c6-9d6e-dc6e5de78c2d",
   "metadata": {},
   "source": [
    "---\n",
    "\n",
    "we can check for the data type in onther way\n"
   ]
  },
  {
   "cell_type": "code",
   "execution_count": 5,
   "id": "47ed8fca-29c7-4339-b157-19f1a78915b0",
   "metadata": {},
   "outputs": [
    {
     "name": "stdout",
     "output_type": "stream",
     "text": [
      "True\n",
      "True\n",
      "True\n",
      "True\n"
     ]
    }
   ],
   "source": [
    "name = \"Ahmed\"\n",
    "age = 22\n",
    "height = 1.78\n",
    "is_student = True\n",
    "\n",
    "print(isinstance(name, str))\n",
    "print(isinstance(age, int))\n",
    "print(isinstance(height, float))\n",
    "print(isinstance(is_student, bool))"
   ]
  },
  {
   "cell_type": "code",
   "execution_count": 6,
   "id": "83a4a837-b265-4f0e-a06a-6b7f0f6e9698",
   "metadata": {},
   "outputs": [
    {
     "name": "stdout",
     "output_type": "stream",
     "text": [
      "Hi, my name is Ahmed, I am 22 years old, I am 1.78m tall, and I am a student.\n"
     ]
    }
   ],
   "source": [
    "# small application\n",
    "# we will use concatination, string formatting and type conversion\n",
    "print(f\"Hi, my name is {name}, I am {age} years old, I am {height}m tall, and I am a student.\")"
   ]
  },
  {
   "cell_type": "code",
   "execution_count": 7,
   "id": "f6b0ff2f-9358-4818-b47e-866b4cae6504",
   "metadata": {},
   "outputs": [
    {
     "name": "stdin",
     "output_type": "stream",
     "text": [
      "Enter your name:  Farouz\n",
      "Enter your age:  45\n",
      "Enter your height (in cm):  432\n"
     ]
    },
    {
     "name": "stdout",
     "output_type": "stream",
     "text": [
      "Hi, my name is Farouz, I am 45 years old, I am 4.32m tall, and I am a student.\n"
     ]
    }
   ],
   "source": [
    "# we can take input from user using input() functions which always retruns string\n",
    "name = input(\"Enter your name: \")\n",
    "age = int(input(\"Enter your age: \"))\n",
    "height = float(input(\"Enter your height (in cm): \"))\n",
    "\n",
    "print(f\"Hi, my name is {name}, I am {age} years old, I am {height / 100}m tall, and I am a student.\")\n"
   ]
  },
  {
   "cell_type": "markdown",
   "id": "7cbc7240-f347-4bc0-935f-21cd75bf342e",
   "metadata": {},
   "source": [
    "---\n",
    "\n",
    "#### List Comprehensions\n",
    "\n",
    "A **list comprehension** is a concise way to create lists in Python.\n",
    "\n",
    "It lets you build a new list by applying an expression to each item in an iterable (like a list, tuple, or range).\n",
    "\n",
    "**Syntax:**\n",
    "```python\n",
    "[expression for item in iterable if condition]\n",
    "\n",
    "- expression → the value you want to put in the new list\n",
    "- item → the variable representing each element in the iterable\n",
    "- condition (optional) → a filter that decides whether to include the item\n",
    "\n",
    "Benefits:\n",
    "- Cleaner and faster than using a normal for loop.\n",
    "- Great for transforming or filtering data in one readable line."
   ]
  },
  {
   "cell_type": "code",
   "execution_count": 21,
   "id": "2bd5880c-863a-4607-847d-005741ce2f0e",
   "metadata": {},
   "outputs": [
    {
     "name": "stdout",
     "output_type": "stream",
     "text": [
      "['Even', 'Odd', 'Even', 'Odd', 'Even', 'Odd']\n",
      "Flattened: [1, 2, 3, 4, 5, 6, 7, 8, 9]\n"
     ]
    }
   ],
   "source": [
    "# Mark even and odd numbers differently\n",
    "labels = [\"Even\" if x % 2 == 0 else \"Odd\" for x in range(6)]\n",
    "print(labels)\n",
    "\n",
    "# Example: flatten a 2D list\n",
    "matrix = [[1, 2, 3], [4, 5, 6], [7, 8, 9]]\n",
    "flattened = [num for row in matrix for num in row]\n",
    "print(\"Flattened:\", flattened)"
   ]
  },
  {
   "cell_type": "markdown",
   "id": "2abb9107-b5c6-4abf-b543-18f12c86a6c3",
   "metadata": {},
   "source": [
    "##### Why List Comprehensions Are So Fast\n",
    "\n",
    "List comprehensions are **faster** than regular `for` loops for three main reasons:\n",
    "\n",
    "1. **Optimized Bytecode**  \n",
    "   Python’s internal implementation of list comprehensions runs in C under the hood.  \n",
    "   That means it executes in compiled loops, not interpreted Python code line-by-line.\n",
    "\n",
    "2. **No Function Call Overhead**  \n",
    "   In a normal loop, each `append()` call is a separate Python function call.  \n",
    "   In a comprehension, the list is built directly in memory — no repeated append calls.\n",
    "\n",
    "3. **Tighter Scope**  \n",
    "   The loop variable in a comprehension is handled internally and doesn’t leak into the global scope,  \n",
    "   which makes the code cleaner and slightly faster to interpret.\n",
    "\n",
    "**In short:**  \n",
    "List comprehensions are both **syntactic sugar** (shorter, cleaner code)  \n",
    "and **performance sugar** (executed in optimized C loops)."
   ]
  },
  {
   "cell_type": "code",
   "execution_count": 19,
   "id": "d6ddffb6-7717-4bdf-9be4-4ab2ec2da611",
   "metadata": {},
   "outputs": [
    {
     "name": "stdout",
     "output_type": "stream",
     "text": [
      "For loop time: 0.070245 sec\n",
      "List comprehension time: 0.055243 sec\n",
      "List comprehension is ~1.27x faster\n"
     ]
    }
   ],
   "source": [
    "import timeit\n",
    "\n",
    "# Using a for loop\n",
    "def for_loop_method():\n",
    "    result = []\n",
    "    for x in range(1000):\n",
    "        result.append(x ** 2)\n",
    "    return result\n",
    "\n",
    "# Using list comprehension\n",
    "def comprehension_method():\n",
    "    return [x ** 2 for x in range(1000)]\n",
    "\n",
    "# Measure execution time\n",
    "loop_time = timeit.timeit(for_loop_method, number=1000)\n",
    "comp_time = timeit.timeit(comprehension_method, number=1000)\n",
    "\n",
    "print(f\"For loop time: {loop_time:.6f} sec\")\n",
    "print(f\"List comprehension time: {comp_time:.6f} sec\")\n",
    "print(f\"List comprehension is ~{loop_time / comp_time:.2f}x faster\")"
   ]
  },
  {
   "cell_type": "markdown",
   "id": "d5b20db6-c6a7-45fb-8915-4873f0907f07",
   "metadata": {},
   "source": [
    "---\n",
    "\n",
    "### Control Flow\n",
    "- if/elif/else\n",
    "- for loops\n",
    "- while loops"
   ]
  },
  {
   "cell_type": "markdown",
   "id": "82d1dc83-1e21-4097-a93b-af8c5eda0632",
   "metadata": {},
   "source": [
    "---\n",
    "\n",
    "#### if / elif / else\n",
    "\n",
    "- The 'if' statement checks a condition that evaluates to True or False.\n",
    "  If it's True, Python runs the code inside that block. If it's False, Python skips it.\n",
    "- The 'elif' (else if) keyword runs only if all previous conditions were False,\n",
    "  and its own condition is True.\n",
    "- You can have multiple 'elif' checks to test different conditions in sequence.\n",
    "  Python stops at the first one that’s True.\n",
    "- The 'else' block runs only when none of the previous conditions (if or elif) were True. It’s your “catch-all” case — what happens when everything else fails.\n",
    "\n",
    "---"
   ]
  },
  {
   "cell_type": "markdown",
   "id": "ecea6800-7cec-4de2-8599-e5b8999e0b30",
   "metadata": {},
   "source": [
    "we can use if/elif/else to comapre values\n",
    "\n",
    "The code checks whether a number is positive, zero, or negative."
   ]
  },
  {
   "cell_type": "code",
   "execution_count": 8,
   "id": "c90dc08b-1b2f-4c24-804c-de3dfbf39959",
   "metadata": {},
   "outputs": [
    {
     "name": "stdout",
     "output_type": "stream",
     "text": [
      "Positive number\n"
     ]
    }
   ],
   "source": [
    "# we can use if/elif/else to comapre values\n",
    "# The code checks whether a number is positive, zero, or negative.\n",
    "x = 10\n",
    "\n",
    "if x > 0:\n",
    "    print(\"Positive number\")\n",
    "elif x == 0:\n",
    "    print(\"Zero\")\n",
    "else:\n",
    "    print(\"Negative number\")"
   ]
  },
  {
   "cell_type": "markdown",
   "id": "9086cfab-6f28-42a5-bbb2-a2f2415365be",
   "metadata": {},
   "source": [
    "---\n",
    "\n",
    "Example: Using logical operators\r\n",
    "- and → both conditions must be True\r\n",
    "- or  → at least one condition must be True\r\n",
    "- not → reverses the boolean value"
   ]
  },
  {
   "cell_type": "code",
   "execution_count": 9,
   "id": "da4b0d2c-7f74-4fa4-878a-08f8738933df",
   "metadata": {},
   "outputs": [
    {
     "name": "stdout",
     "output_type": "stream",
     "text": [
      "Access denied.\n"
     ]
    }
   ],
   "source": [
    "has_id = True\n",
    "age = 17\n",
    "\n",
    "if age >= 18 and has_id:  \n",
    "    print(\"Allowed to enter.\")\n",
    "else:\n",
    "    print(\"Access denied.\")\n"
   ]
  },
  {
   "cell_type": "markdown",
   "id": "f25827a2-bda0-401f-a5a3-227e7c8fc33f",
   "metadata": {},
   "source": [
    "Ternary If (Conditional Expression)\n",
    "\n",
    "A ternary if lets you write simple conditions in one line:\n",
    "    (value_if_true) if (condition) else (value_if_false)\n",
    "\n",
    "It's useful when you want to assign a value or print something\n",
    "based on a quick condition — without writing a full if/else block."
   ]
  },
  {
   "cell_type": "code",
   "execution_count": 10,
   "id": "5471440a-0eb2-49f1-a6ba-2098e93bb644",
   "metadata": {},
   "outputs": [
    {
     "name": "stdout",
     "output_type": "stream",
     "text": [
      "7 is Odd\n",
      "Status: Adult\n",
      "Hot\n"
     ]
    }
   ],
   "source": [
    "# Example 1: Check if a number is even or odd\n",
    "num = 7\n",
    "result = \"Even\" if num % 2 == 0 else \"Odd\"\n",
    "print(f\"{num} is {result}\")\n",
    "\n",
    "# Example 2: Assign message based on age\n",
    "age = 20\n",
    "message = \"Adult\" if age >= 18 else \"Minor\"\n",
    "print(f\"Status: {message}\")\n",
    "\n",
    "# Example 3: Using ternary inside a print directly\n",
    "temperature = 32\n",
    "print(\"Hot\" if temperature > 30 else \"Cool\")"
   ]
  },
  {
   "cell_type": "markdown",
   "id": "8fe8e18d-ce67-4ee9-81c6-6f9dc28be13c",
   "metadata": {},
   "source": [
    "---\n",
    "\n",
    "#### For Loop\n",
    "for loop is used when you know how many times to repeat."
   ]
  },
  {
   "cell_type": "code",
   "execution_count": 11,
   "id": "4c5bc38d-e00d-4601-bb54-0e67139daa0e",
   "metadata": {},
   "outputs": [
    {
     "name": "stdout",
     "output_type": "stream",
     "text": [
      "1\n",
      "2\n",
      "3\n",
      "4\n",
      "5\n",
      "I like apple\n",
      "I like banana\n",
      "I like cherry\n",
      "i = 1, j = 1\n",
      "i = 1, j = 2\n",
      "i = 2, j = 1\n",
      "i = 2, j = 2\n",
      "i = 3, j = 1\n",
      "i = 3, j = 2\n"
     ]
    }
   ],
   "source": [
    "# print numbers from 1 to 5 >> because python stops before the last element\n",
    "for i in range(1, 6):\n",
    "    print(i)\n",
    "\n",
    "# we can iterate over a list\n",
    "fruits = [\"apple\", \"banana\", \"cherry\"]\n",
    "\n",
    "for fruit in fruits:\n",
    "    print(f\"I like {fruit}\")\n",
    "\n",
    "# Nested loops >> a loop inside another loop\n",
    "for i in range(1, 4):\n",
    "    for j in range(1, 3):\n",
    "        print(f\"i = {i}, j = {j}\")"
   ]
  },
  {
   "cell_type": "markdown",
   "id": "e1762332-2059-453d-a16f-4786465285a9",
   "metadata": {},
   "source": [
    "---\n",
    "\n",
    "#### While Loop\n",
    "while loop keeps running as long as the condition is True <b> but be aware of infinite loops </b>"
   ]
  },
  {
   "cell_type": "code",
   "execution_count": 12,
   "id": "1bfb7fba-3a2c-4bef-a591-401046ee909d",
   "metadata": {},
   "outputs": [
    {
     "name": "stdout",
     "output_type": "stream",
     "text": [
      "Count: 1\n",
      "Count: 2\n",
      "Count: 3\n",
      "Count: 4\n",
      "Count: 5\n"
     ]
    }
   ],
   "source": [
    "count = 1\n",
    "\n",
    "while count <= 5:\n",
    "    print(\"Count:\", count)\n",
    "    count += 1  # Important: increase the counter, or it will run forever"
   ]
  },
  {
   "cell_type": "markdown",
   "id": "f59dbcd7-e941-4f96-858e-2d6865b96323",
   "metadata": {},
   "source": [
    "---\n",
    "\n",
    "#### Break / Continue\n",
    "- break >> exits the loop immediately\n",
    "- continue >> skips the current iteration and moves to the nextt"
   ]
  },
  {
   "cell_type": "code",
   "execution_count": 13,
   "id": "525ad51c-ec33-4ade-90f0-e8cf1401a99d",
   "metadata": {},
   "outputs": [
    {
     "name": "stdout",
     "output_type": "stream",
     "text": [
      "0\n",
      "1\n",
      "2\n",
      "3\n",
      "4\n",
      "----\n",
      "1\n",
      "3\n",
      "5\n",
      "7\n",
      "9\n"
     ]
    }
   ],
   "source": [
    "# Example of break\n",
    "for i in range(10):\n",
    "    if i == 5:\n",
    "        break  # stop when i == 5\n",
    "    print(i)\n",
    "\n",
    "print(\"----\")\n",
    "\n",
    "# Example of continue\n",
    "for i in range(10):\n",
    "    if i % 2 == 0:\n",
    "        continue  # skip even numbers\n",
    "    print(i)"
   ]
  },
  {
   "cell_type": "markdown",
   "id": "c57c5e38-0f2f-4a86-9a44-031c9f1831b7",
   "metadata": {},
   "source": [
    "##### Small Program:\n",
    "Print numbers from 1 to 10.\n",
    "Next to each number, print \"Even\" if it's even, or \"Odd\" if it's odd."
   ]
  },
  {
   "cell_type": "code",
   "execution_count": 14,
   "id": "dbe9eee2-90b7-4b22-9723-6fad9af08184",
   "metadata": {},
   "outputs": [
    {
     "name": "stdout",
     "output_type": "stream",
     "text": [
      "1 → Odd\n",
      "2 → Even\n",
      "3 → Odd\n",
      "4 → Even\n",
      "5 → Odd\n",
      "6 → Even\n",
      "7 → Odd\n",
      "8 → Even\n",
      "9 → Odd\n",
      "10 → Even\n"
     ]
    }
   ],
   "source": [
    "for num in range(1, 11):\n",
    "    if num % 2 == 0:\n",
    "        print(f\"{num} → Even\")\n",
    "    else:\n",
    "        print(f\"{num} → Odd\")"
   ]
  },
  {
   "cell_type": "markdown",
   "id": "d4abbfe3-1593-4a07-b74c-ff8685c30747",
   "metadata": {},
   "source": [
    "---\n",
    "\n",
    "### Fucntions\n",
    "- Define and call functions\n",
    "- Parameters, return values, and scope\n",
    "- Default arguments and keyword arguments\n",
    "- *args and **kwargs\n",
    "- Lambda (anonymous) functions\n",
    "\n",
    "A function is a reusable block of code that performs a specific task.\r\n",
    "You define it once, and you can call it many times."
   ]
  },
  {
   "cell_type": "code",
   "execution_count": 15,
   "id": "32205d58-f500-431b-92b5-0b62ba0a1c0f",
   "metadata": {},
   "outputs": [
    {
     "name": "stdout",
     "output_type": "stream",
     "text": [
      "Hello, welcome to Python functions!\n",
      "Hello, welcome to Python functions!\n",
      "Hello, welcome to Python functions!\n",
      "Hello, welcome to Python functions!\n"
     ]
    }
   ],
   "source": [
    "# define the function\n",
    "def greet():\n",
    "    print(\"Hello, welcome to Python functions!\")\n",
    "\n",
    "# Calling the function\n",
    "greet()\n",
    "greet()\n",
    "greet()\n",
    "greet()"
   ]
  },
  {
   "cell_type": "markdown",
   "id": "36f32c6d-a8ca-4c1b-b14d-7e6d2e5ebfce",
   "metadata": {},
   "source": [
    "---\n",
    "<b>Functions can take parameters (inputs) to make them more flexible</b><br>\n",
    "This example takes a name and prints a personalized message."
   ]
  },
  {
   "cell_type": "code",
   "execution_count": 17,
   "id": "d97c70db-4899-4fca-925a-a5aefc9ba937",
   "metadata": {},
   "outputs": [
    {
     "name": "stdout",
     "output_type": "stream",
     "text": [
      "Hello, Farouz! Glad to see you learning Python.\n"
     ]
    }
   ],
   "source": [
    "def greet_user(name):\n",
    "    print(f\"Hello, {name}! Glad to see you learning Python.\")\n",
    "\n",
    "greet_user(\"Farouz\")"
   ]
  },
  {
   "cell_type": "markdown",
   "id": "728b1e7a-4ed4-48c0-a99b-9ce61f5f0bb0",
   "metadata": {},
   "source": [
    "---\n",
    "\n",
    "A **lambda function** is a small, anonymous function written in a single line.\n",
    "\n",
    "- It doesn’t need a `def` or a name — that’s why it’s called *anonymous*.\n",
    "- Syntax:\n",
    "  ```python\n",
    "  lambda arguments: expression\n",
    "\n",
    "- It can take any number of arguments but can only have one expression.\n",
    "- Commonly used for short, simple operations or with functions like map(), filter(), and sorted()."
   ]
  },
  {
   "cell_type": "code",
   "execution_count": 18,
   "id": "7d1005f8-cf99-44a5-aaf3-2b402fae4a86",
   "metadata": {},
   "outputs": [
    {
     "name": "stdout",
     "output_type": "stream",
     "text": [
      "25\n",
      "10\n",
      "['Ahmed', 'Farouz', 'Kareem', 'Youssef', 'Mohamed']\n"
     ]
    }
   ],
   "source": [
    "# Example 1: square a number\n",
    "square = lambda x: x ** 2\n",
    "print(square(5))\n",
    "\n",
    "# Example 2: add two numbers\n",
    "add = lambda a, b: a + b\n",
    "print(add(3, 7))\n",
    "\n",
    "# Example 3: use lambda with sorted() to sort by string length\n",
    "names = [\"Ahmed\", \"Farouz\", \"Youssef\", \"Mohamed\", \"Kareem\"]\n",
    "sorted_names = sorted(names, key=lambda name: len(name))\n",
    "print(sorted_names)"
   ]
  },
  {
   "cell_type": "code",
   "execution_count": null,
   "id": "32c90a6f-eb05-4029-b7ec-4704600ddc14",
   "metadata": {},
   "outputs": [],
   "source": []
  }
 ],
 "metadata": {
  "kernelspec": {
   "display_name": "Python 3 (ipykernel)",
   "language": "python",
   "name": "python3"
  },
  "language_info": {
   "codemirror_mode": {
    "name": "ipython",
    "version": 3
   },
   "file_extension": ".py",
   "mimetype": "text/x-python",
   "name": "python",
   "nbconvert_exporter": "python",
   "pygments_lexer": "ipython3",
   "version": "3.12.4"
  }
 },
 "nbformat": 4,
 "nbformat_minor": 5
}
